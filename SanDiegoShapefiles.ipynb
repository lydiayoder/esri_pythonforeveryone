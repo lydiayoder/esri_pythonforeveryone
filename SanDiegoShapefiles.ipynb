{
 "cells": [
  {
   "cell_type": "markdown",
   "metadata": {},
   "source": [
    "#Assign variables to the shapefiles"
   ]
  },
  {
   "cell_type": "code",
   "execution_count": 11,
   "metadata": {},
   "outputs": [],
   "source": [
    "park = \"Parks_sd.shp\"\n",
    "school = \"Schools_sd.shp\"\n",
    "sewer = \"Sewer_Main_sd.shp\""
   ]
  },
  {
   "cell_type": "markdown",
   "metadata": {},
   "source": [
    "#Create a list of shapefile variables"
   ]
  },
  {
   "cell_type": "code",
   "execution_count": 12,
   "metadata": {},
   "outputs": [],
   "source": [
    "shapeList = [park, school, sewer]"
   ]
  },
  {
   "cell_type": "markdown",
   "metadata": {},
   "source": [
    "#Create a text file that will contain updated shapefile names"
   ]
  },
  {
   "cell_type": "code",
   "execution_count": 13,
   "metadata": {},
   "outputs": [],
   "source": [
    "path = r\"C:\\EsriTraining\\PythEveryone\\CreatingDataTypes\\SanDiegoUpd.txt\"\n",
    "file = open(path, 'w')"
   ]
  },
  {
   "cell_type": "markdown",
   "metadata": {},
   "source": [
    "#Update the names of the shapefiles in the shapefile list"
   ]
  },
  {
   "cell_type": "code",
   "execution_count": 14,
   "metadata": {},
   "outputs": [
    {
     "name": "stdout",
     "output_type": "stream",
     "text": [
      "Parks_sd.shp\n",
      "Parks_SD.shp\n",
      "Schools_sd.shp\n",
      "Schools_SD.shp\n",
      "Sewer_Main_sd.shp\n",
      "Sewer_Main_SD.shp\n"
     ]
    }
   ],
   "source": [
    "for shp in shapeList:\n",
    "    print(shp)\n",
    "    shp = shp.replace(\"sd\", \"SD\")\n",
    "    print(shp)\n",
    "    file.write(shp + \"\\n\")"
   ]
  },
  {
   "cell_type": "code",
   "execution_count": 15,
   "metadata": {},
   "outputs": [],
   "source": [
    "file.close()"
   ]
  },
  {
   "cell_type": "code",
   "execution_count": null,
   "metadata": {},
   "outputs": [],
   "source": []
  }
 ],
 "metadata": {
  "kernelspec": {
   "display_name": "ArcGISPro",
   "language": "python",
   "name": "python3"
  },
  "language_info": {
   "file_extension": ".py",
   "mimetype": "text/x-python",
   "name": "python",
   "version": "3.11.10"
  }
 },
 "nbformat": 4,
 "nbformat_minor": 4
}
